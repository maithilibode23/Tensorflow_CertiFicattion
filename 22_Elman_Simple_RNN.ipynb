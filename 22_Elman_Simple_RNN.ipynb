{
 "cells": [
  {
   "cell_type": "code",
   "execution_count": 1,
   "id": "f3904cfc",
   "metadata": {},
   "outputs": [],
   "source": [
    "import tensorflow as tf\n",
    "from tensorflow.keras.preprocessing.text import Tokenizer\n",
    "from tensorflow.keras.preprocessing.sequence import pad_sequences\n",
    "import numpy as np\n",
    "import pandas as pd"
   ]
  },
  {
   "cell_type": "code",
   "execution_count": 2,
   "id": "1295dd93",
   "metadata": {},
   "outputs": [],
   "source": [
    "dataset = pd.read_csv('C:\\\\Users\\\\maithili bode\\\\.keras\\\\datasets\\\\reviews.csv')"
   ]
  },
  {
   "cell_type": "code",
   "execution_count": 3,
   "id": "93807a82",
   "metadata": {},
   "outputs": [
    {
     "data": {
      "text/html": [
       "<div>\n",
       "<style scoped>\n",
       "    .dataframe tbody tr th:only-of-type {\n",
       "        vertical-align: middle;\n",
       "    }\n",
       "\n",
       "    .dataframe tbody tr th {\n",
       "        vertical-align: top;\n",
       "    }\n",
       "\n",
       "    .dataframe thead th {\n",
       "        text-align: right;\n",
       "    }\n",
       "</style>\n",
       "<table border=\"1\" class=\"dataframe\">\n",
       "  <thead>\n",
       "    <tr style=\"text-align: right;\">\n",
       "      <th></th>\n",
       "      <th>Unnamed: 0</th>\n",
       "      <th>text</th>\n",
       "      <th>sentiment</th>\n",
       "    </tr>\n",
       "  </thead>\n",
       "  <tbody>\n",
       "    <tr>\n",
       "      <th>0</th>\n",
       "      <td>0</td>\n",
       "      <td>So there is no way for me to plug it in here i...</td>\n",
       "      <td>0</td>\n",
       "    </tr>\n",
       "    <tr>\n",
       "      <th>1</th>\n",
       "      <td>1</td>\n",
       "      <td>Good case Excellent value.</td>\n",
       "      <td>1</td>\n",
       "    </tr>\n",
       "    <tr>\n",
       "      <th>2</th>\n",
       "      <td>2</td>\n",
       "      <td>Great for the jawbone.</td>\n",
       "      <td>1</td>\n",
       "    </tr>\n",
       "    <tr>\n",
       "      <th>3</th>\n",
       "      <td>3</td>\n",
       "      <td>Tied to charger for conversations lasting more...</td>\n",
       "      <td>0</td>\n",
       "    </tr>\n",
       "    <tr>\n",
       "      <th>4</th>\n",
       "      <td>4</td>\n",
       "      <td>The mic is great.</td>\n",
       "      <td>1</td>\n",
       "    </tr>\n",
       "  </tbody>\n",
       "</table>\n",
       "</div>"
      ],
      "text/plain": [
       "   Unnamed: 0                                               text  sentiment\n",
       "0           0  So there is no way for me to plug it in here i...          0\n",
       "1           1                         Good case Excellent value.          1\n",
       "2           2                             Great for the jawbone.          1\n",
       "3           3  Tied to charger for conversations lasting more...          0\n",
       "4           4                                  The mic is great.          1"
      ]
     },
     "execution_count": 3,
     "metadata": {},
     "output_type": "execute_result"
    }
   ],
   "source": [
    "dataset.head()"
   ]
  },
  {
   "cell_type": "code",
   "execution_count": 4,
   "id": "73d15209",
   "metadata": {},
   "outputs": [],
   "source": [
    "sentences = dataset['text'].tolist()"
   ]
  },
  {
   "cell_type": "code",
   "execution_count": 5,
   "id": "48541895",
   "metadata": {},
   "outputs": [],
   "source": [
    "lables = dataset['sentiment'].tolist()"
   ]
  },
  {
   "cell_type": "code",
   "execution_count": 6,
   "id": "179d8fcd",
   "metadata": {},
   "outputs": [
    {
     "name": "stdout",
     "output_type": "stream",
     "text": [
      "So there is no way for me to plug it in here in the US unless I go by a converter.\n",
      "0\n",
      "\n",
      "\n",
      "Good case Excellent value.\n",
      "1\n",
      "\n",
      "\n"
     ]
    }
   ],
   "source": [
    "for x in range(2):\n",
    "    print(sentences[x])\n",
    "    print(lables[x])\n",
    "    print('\\n')"
   ]
  },
  {
   "cell_type": "code",
   "execution_count": 7,
   "id": "dd3e3eea",
   "metadata": {},
   "outputs": [
    {
     "name": "stderr",
     "output_type": "stream",
     "text": [
      "C:\\Users\\Maithili Bode\\.conda\\envs\\deepl\\lib\\site-packages\\tqdm\\auto.py:22: TqdmWarning: IProgress not found. Please update jupyter and ipywidgets. See https://ipywidgets.readthedocs.io/en/stable/user_install.html\n",
      "  from .autonotebook import tqdm as notebook_tqdm\n"
     ]
    }
   ],
   "source": [
    "import tensorflow_datasets as tfds"
   ]
  },
  {
   "cell_type": "code",
   "execution_count": 8,
   "id": "a5d4aa07",
   "metadata": {},
   "outputs": [],
   "source": [
    "vocab_size = 1000\n",
    "tokenizer = tfds.deprecated.text.SubwordTextEncoder.build_from_corpus(sentences,vocab_size,max_subword_length=5)"
   ]
  },
  {
   "cell_type": "code",
   "execution_count": 9,
   "id": "aad057c9",
   "metadata": {},
   "outputs": [
    {
     "name": "stdout",
     "output_type": "stream",
     "text": [
      "vacab size is:  999\n"
     ]
    }
   ],
   "source": [
    "print(\"vacab size is: \",tokenizer.vocab_size)"
   ]
  },
  {
   "cell_type": "code",
   "execution_count": 10,
   "id": "b231ca17",
   "metadata": {},
   "outputs": [
    {
     "name": "stdout",
     "output_type": "stream",
     "text": [
      "I have to jiggle the plug to get it to line up right to get decent volume.\n",
      "[4, 31, 6, 849, 162, 450, 12, 1, 600, 438, 775, 6, 175, 14, 6, 55, 213, 159, 474, 775, 6, 175, 614, 380, 295, 148, 72, 789]\n"
     ]
    }
   ],
   "source": [
    "num = 5\n",
    "print(sentences[num])\n",
    "encoder = tokenizer.encode(sentences[num])\n",
    "print(encoder)"
   ]
  },
  {
   "cell_type": "code",
   "execution_count": 11,
   "id": "68743043",
   "metadata": {},
   "outputs": [
    {
     "name": "stdout",
     "output_type": "stream",
     "text": [
      "I \n",
      "have \n",
      "to \n",
      "j\n",
      "ig\n",
      "gl\n",
      "e \n",
      "the \n",
      "pl\n",
      "ug\n",
      " \n",
      "to \n",
      "get \n",
      "it \n",
      "to \n",
      "li\n",
      "ne \n",
      "up \n",
      "right\n",
      " \n",
      "to \n",
      "get \n",
      "dec\n",
      "ent \n",
      "vo\n",
      "lu\n",
      "me\n",
      ".\n"
     ]
    }
   ],
   "source": [
    "for i in encoder:\n",
    "    print(tokenizer.decode([i]))"
   ]
  },
  {
   "cell_type": "code",
   "execution_count": 12,
   "id": "4fde19d7",
   "metadata": {},
   "outputs": [
    {
     "name": "stdout",
     "output_type": "stream",
     "text": [
      "[4, 31, 6, 849, 162, 450, 12, 1, 600, 438, 775, 6, 175, 14, 6, 55, 213, 159, 474, 775, 6, 175, 614, 380, 295, 148, 72, 789]\n"
     ]
    }
   ],
   "source": [
    "for i,sentence in enumerate(sentences):\n",
    "    sentences[i] = tokenizer.encode(sentence)\n",
    "print(sentences[5])"
   ]
  },
  {
   "cell_type": "code",
   "execution_count": 13,
   "id": "f4f134ab",
   "metadata": {},
   "outputs": [],
   "source": [
    "max_length = 50\n",
    "trunc_type = 'post'\n",
    "padding_type = 'post'"
   ]
  },
  {
   "cell_type": "code",
   "execution_count": 14,
   "id": "332eb36b",
   "metadata": {},
   "outputs": [],
   "source": [
    "sequences_padded = pad_sequences(sentences,maxlen=max_length,padding=padding_type,truncating=trunc_type)"
   ]
  },
  {
   "cell_type": "code",
   "execution_count": 15,
   "id": "20c06826",
   "metadata": {},
   "outputs": [],
   "source": [
    "training_size = int(len(sentences)*0.8)"
   ]
  },
  {
   "cell_type": "code",
   "execution_count": 16,
   "id": "2bb1f117",
   "metadata": {},
   "outputs": [],
   "source": [
    "training_sequences = sequences_padded[0:training_size]\n",
    "testing_sequences = sequences_padded[training_size:]\n",
    "training_labels = lables[0:training_size]\n",
    "testing_labels = lables[training_size:]"
   ]
  },
  {
   "cell_type": "code",
   "execution_count": 17,
   "id": "1b0bf6f4",
   "metadata": {},
   "outputs": [],
   "source": [
    "training_labels_final = np.array(training_labels)\n",
    "testing_labels_final = np.array(testing_labels)"
   ]
  },
  {
   "cell_type": "code",
   "execution_count": 18,
   "id": "bcbd37b5",
   "metadata": {},
   "outputs": [],
   "source": [
    "embedding_dim = 16\n",
    "model = tf.keras.Sequential([\n",
    "    tf.keras.layers.Embedding(vocab_size,embedding_dim,input_length=max_length),\n",
    "    tf.keras.layers.GlobalAveragePooling1D(),\n",
    "    tf.keras.layers.Dense(6,activation='relu'),\n",
    "    tf.keras.layers.Dense(1,activation='sigmoid')\n",
    "])"
   ]
  },
  {
   "cell_type": "code",
   "execution_count": 19,
   "id": "8165591a",
   "metadata": {},
   "outputs": [],
   "source": [
    "num_epochs = 30\n",
    "model.compile(loss='binary_crossentropy', optimizer='adam',metrics=['accuracy'])"
   ]
  },
  {
   "cell_type": "code",
   "execution_count": 22,
   "id": "759ae146",
   "metadata": {},
   "outputs": [
    {
     "name": "stdout",
     "output_type": "stream",
     "text": [
      "Epoch 1/30\n",
      "50/50 [==============================] - 2s 12ms/step - loss: 0.6921 - accuracy: 0.5229 - val_loss: 0.6990 - val_accuracy: 0.4110\n",
      "Epoch 2/30\n",
      "50/50 [==============================] - 0s 5ms/step - loss: 0.6886 - accuracy: 0.5223 - val_loss: 0.6996 - val_accuracy: 0.4110\n",
      "Epoch 3/30\n",
      "50/50 [==============================] - 0s 5ms/step - loss: 0.6851 - accuracy: 0.5223 - val_loss: 0.7014 - val_accuracy: 0.4110\n",
      "Epoch 4/30\n",
      "50/50 [==============================] - 0s 5ms/step - loss: 0.6798 - accuracy: 0.5405 - val_loss: 0.6982 - val_accuracy: 0.4461\n",
      "Epoch 5/30\n",
      "50/50 [==============================] - 0s 5ms/step - loss: 0.6706 - accuracy: 0.5782 - val_loss: 0.6908 - val_accuracy: 0.4937\n",
      "Epoch 6/30\n",
      "50/50 [==============================] - 0s 5ms/step - loss: 0.6555 - accuracy: 0.6321 - val_loss: 0.6793 - val_accuracy: 0.5038\n",
      "Epoch 7/30\n",
      "50/50 [==============================] - 0s 5ms/step - loss: 0.6305 - accuracy: 0.6673 - val_loss: 0.6598 - val_accuracy: 0.5664\n",
      "Epoch 8/30\n",
      "50/50 [==============================] - 0s 5ms/step - loss: 0.5967 - accuracy: 0.7495 - val_loss: 0.6409 - val_accuracy: 0.6190\n",
      "Epoch 9/30\n",
      "50/50 [==============================] - 0s 5ms/step - loss: 0.5574 - accuracy: 0.7841 - val_loss: 0.6098 - val_accuracy: 0.6742\n",
      "Epoch 10/30\n",
      "50/50 [==============================] - ETA: 0s - loss: 0.5160 - accuracy: 0.82 - 0s 5ms/step - loss: 0.5162 - accuracy: 0.8192 - val_loss: 0.5793 - val_accuracy: 0.7419\n",
      "Epoch 11/30\n",
      "50/50 [==============================] - 0s 5ms/step - loss: 0.4754 - accuracy: 0.8393 - val_loss: 0.5547 - val_accuracy: 0.7318\n",
      "Epoch 12/30\n",
      "50/50 [==============================] - 0s 5ms/step - loss: 0.4365 - accuracy: 0.8569 - val_loss: 0.5318 - val_accuracy: 0.7469\n",
      "Epoch 13/30\n",
      "50/50 [==============================] - 0s 5ms/step - loss: 0.4021 - accuracy: 0.8650 - val_loss: 0.5351 - val_accuracy: 0.7368\n",
      "Epoch 14/30\n",
      "50/50 [==============================] - 0s 5ms/step - loss: 0.3716 - accuracy: 0.8745 - val_loss: 0.5250 - val_accuracy: 0.7393\n",
      "Epoch 15/30\n",
      "50/50 [==============================] - 0s 5ms/step - loss: 0.3462 - accuracy: 0.8858 - val_loss: 0.5078 - val_accuracy: 0.7494\n",
      "Epoch 16/30\n",
      "50/50 [==============================] - 0s 5ms/step - loss: 0.3221 - accuracy: 0.8945 - val_loss: 0.5140 - val_accuracy: 0.7519\n",
      "Epoch 17/30\n",
      "50/50 [==============================] - 0s 5ms/step - loss: 0.3023 - accuracy: 0.8939 - val_loss: 0.5002 - val_accuracy: 0.7494\n",
      "Epoch 18/30\n",
      "50/50 [==============================] - 0s 5ms/step - loss: 0.2860 - accuracy: 0.9021 - val_loss: 0.5165 - val_accuracy: 0.7494\n",
      "Epoch 19/30\n",
      "50/50 [==============================] - 0s 5ms/step - loss: 0.2698 - accuracy: 0.9102 - val_loss: 0.5233 - val_accuracy: 0.7494\n",
      "Epoch 20/30\n",
      "50/50 [==============================] - 0s 5ms/step - loss: 0.2553 - accuracy: 0.9153 - val_loss: 0.5202 - val_accuracy: 0.7569\n",
      "Epoch 21/30\n",
      "50/50 [==============================] - 0s 5ms/step - loss: 0.2430 - accuracy: 0.9190 - val_loss: 0.5166 - val_accuracy: 0.7519\n",
      "Epoch 22/30\n",
      "50/50 [==============================] - 0s 5ms/step - loss: 0.2327 - accuracy: 0.9253 - val_loss: 0.5226 - val_accuracy: 0.7544\n",
      "Epoch 23/30\n",
      "50/50 [==============================] - 0s 5ms/step - loss: 0.2232 - accuracy: 0.9278 - val_loss: 0.5152 - val_accuracy: 0.7644\n",
      "Epoch 24/30\n",
      "50/50 [==============================] - 0s 5ms/step - loss: 0.2152 - accuracy: 0.9297 - val_loss: 0.5535 - val_accuracy: 0.7544\n",
      "Epoch 25/30\n",
      "50/50 [==============================] - 0s 5ms/step - loss: 0.2073 - accuracy: 0.9322 - val_loss: 0.5738 - val_accuracy: 0.7494\n",
      "Epoch 26/30\n",
      "50/50 [==============================] - 0s 5ms/step - loss: 0.1979 - accuracy: 0.9366 - val_loss: 0.5514 - val_accuracy: 0.7619\n",
      "Epoch 27/30\n",
      "50/50 [==============================] - 0s 5ms/step - loss: 0.1902 - accuracy: 0.9404 - val_loss: 0.5802 - val_accuracy: 0.7569\n",
      "Epoch 28/30\n",
      "50/50 [==============================] - 0s 5ms/step - loss: 0.1847 - accuracy: 0.9448 - val_loss: 0.5549 - val_accuracy: 0.7619\n",
      "Epoch 29/30\n",
      "50/50 [==============================] - 0s 5ms/step - loss: 0.1790 - accuracy: 0.9473 - val_loss: 0.6035 - val_accuracy: 0.7594\n",
      "Epoch 30/30\n",
      "50/50 [==============================] - 0s 5ms/step - loss: 0.1728 - accuracy: 0.9504 - val_loss: 0.6131 - val_accuracy: 0.7544\n"
     ]
    }
   ],
   "source": [
    "history = model.fit(training_sequences,training_labels_final,epochs=num_epochs,validation_data=(testing_sequences,testing_labels_final))"
   ]
  },
  {
   "cell_type": "code",
   "execution_count": 23,
   "id": "c4001750",
   "metadata": {},
   "outputs": [
    {
     "data": {
      "image/png": "[encoded data removed]",
      "text/plain": [
       "<Figure size 432x288 with 1 Axes>"
      ]
     },
     "metadata": {
      "needs_background": "light"
     },
     "output_type": "display_data"
    },
    {
     "data": {
      "image/png": "[encoded data removed]",
      "text/plain": [
       "<Figure size 432x288 with 1 Axes>"
      ]
     },
     "metadata": {
      "needs_background": "light"
     },
     "output_type": "display_data"
    }
   ],
   "source": [
    "import matplotlib.pyplot as plt\n",
    "def plot_graphs(history,string):\n",
    "    plt.plot(history.history[string])\n",
    "    plt.plot(history.history['val_'+string])\n",
    "    plt.xlabel('Epochs')\n",
    "    plt.ylabel('string')\n",
    "    plt.legend([string,'val_'+string])\n",
    "    plt.show()\n",
    "\n",
    "plot_graphs(history,'accuracy')\n",
    "plot_graphs(history,'loss')"
   ]
  },
  {
   "cell_type": "code",
   "execution_count": 24,
   "id": "2c73bd1e",
   "metadata": {},
   "outputs": [],
   "source": [
    "def predict_review(model,new_sentences,maxlen=max_length,show_padded_sequence=True):\n",
    "    new_sequences = []\n",
    "    for i,frvw in enumerate(new_sentences):\n",
    "        new_sequences.append(tokenizer.encode(frvw))\n",
    "    trunc_type = 'post'\n",
    "    padding_type = 'post'\n",
    "    new_review_padded = pad_sequences(new_sequences,maxlen=max_length,padding=padding_type,truncating=trunc_type)\n",
    "    classes = model.predict(new_review_padded)\n",
    "    for x in range(len(new_sentences)):\n",
    "        if (show_padded_sequence):\n",
    "            print(new_review_padded[x])\n",
    "        print(new_sentences[x])\n",
    "        print(classes[x])\n",
    "        print('\\n')"
   ]
  },
  {
   "cell_type": "code",
   "execution_count": 25,
   "id": "e48cac33",
   "metadata": {},
   "outputs": [],
   "source": [
    "fake_reviews = ['i love this phone',\"everything was cold\"]"
   ]
  },
  {
   "cell_type": "code",
   "execution_count": 26,
   "id": "fa43e1b4",
   "metadata": {},
   "outputs": [
    {
     "name": "stdout",
     "output_type": "stream",
     "text": [
      "[425 281  16  25   0   0   0   0   0   0   0   0   0   0   0   0   0   0\n",
      "   0   0   0   0   0   0   0   0   0   0   0   0   0   0   0   0   0   0\n",
      "   0   0   0   0   0   0   0   0   0   0   0   0   0   0]\n",
      "i love this phone\n",
      "[0.9233062]\n",
      "\n",
      "\n",
      "[272 100 775   9 525 843   0   0   0   0   0   0   0   0   0   0   0   0\n",
      "   0   0   0   0   0   0   0   0   0   0   0   0   0   0   0   0   0   0\n",
      "   0   0   0   0   0   0   0   0   0   0   0   0   0   0]\n",
      "everything was cold\n",
      "[0.53444964]\n",
      "\n",
      "\n"
     ]
    }
   ],
   "source": [
    "predict_review(model,fake_reviews)"
   ]
  },
  {
   "cell_type": "code",
   "execution_count": 27,
   "id": "8f91a6a9",
   "metadata": {},
   "outputs": [],
   "source": [
    "def fit_model_now(model,sentences):\n",
    "    model.compile(loss='binary_crossentropy',optimizer='adam',metrics=['accuracy'])\n",
    "    model.summary()\n",
    "    history = model.fit(training_sequences,training_labels_final,epochs=num_epochs,validation_data=(testing_sequences,testing_labels_final))\n",
    "    return history"
   ]
  },
  {
   "cell_type": "code",
   "execution_count": 28,
   "id": "726e31de",
   "metadata": {},
   "outputs": [],
   "source": [
    "def plot_results(history):\n",
    "    plot_graphs(history,'accuracy')\n",
    "    plot_graphs(history,'loss')"
   ]
  },
  {
   "cell_type": "code",
   "execution_count": 29,
   "id": "2e42ef61",
   "metadata": {},
   "outputs": [],
   "source": [
    "def fit_model_and_show_result(model,sentences):\n",
    "    history = fit_model_now(model,sentences)\n",
    "    plot_results(history)\n",
    "    predict_review(model,sentences)"
   ]
  },
  {
   "cell_type": "code",
   "execution_count": 30,
   "id": "a0637dcd",
   "metadata": {},
   "outputs": [],
   "source": [
    "model_bidi_lstm = tf.keras.Sequential([\n",
    "    tf.keras.layers.Embedding(vocab_size,embedding_dim,input_length=max_length),\n",
    "    tf.keras.layers.Bidirectional(tf.keras.layers.LSTM(embedding_dim)),\n",
    "    tf.keras.layers.Dense(6,activation='relu'),\n",
    "    tf.keras.layers.Dense(1,activation='sigmoid')\n",
    "])"
   ]
  },
  {
   "cell_type": "code",
   "execution_count": 31,
   "id": "3d94dc31",
   "metadata": {},
   "outputs": [
    {
     "name": "stdout",
     "output_type": "stream",
     "text": [
      "Model: \"sequential_1\"\n",
      "_________________________________________________________________\n",
      "Layer (type)                 Output Shape              Param #   \n",
      "=================================================================\n",
      "embedding_1 (Embedding)      (None, 50, 16)            16000     \n",
      "_________________________________________________________________\n",
      "bidirectional (Bidirectional (None, 32)                4224      \n",
      "_________________________________________________________________\n",
      "dense_2 (Dense)              (None, 6)                 198       \n",
      "_________________________________________________________________\n",
      "dense_3 (Dense)              (None, 1)                 7         \n",
      "=================================================================\n",
      "Total params: 20,429\n",
      "Trainable params: 20,429\n",
      "Non-trainable params: 0\n",
      "_________________________________________________________________\n",
      "Epoch 1/30\n",
      "50/50 [==============================] - 11s 77ms/step - loss: 0.6924 - accuracy: 0.5662 - val_loss: 0.6949 - val_accuracy: 0.4135\n",
      "Epoch 2/30\n",
      "50/50 [==============================] - 2s 50ms/step - loss: 0.6732 - accuracy: 0.6265 - val_loss: 0.7598 - val_accuracy: 0.4787\n",
      "Epoch 3/30\n",
      "50/50 [==============================] - 2s 44ms/step - loss: 0.5612 - accuracy: 0.7514 - val_loss: 0.6556 - val_accuracy: 0.6617\n",
      "Epoch 4/30\n",
      "50/50 [==============================] - 2s 48ms/step - loss: 0.3989 - accuracy: 0.8343 - val_loss: 0.4948 - val_accuracy: 0.7594\n",
      "Epoch 5/30\n",
      "50/50 [==============================] - 3s 51ms/step - loss: 0.2904 - accuracy: 0.8933 - val_loss: 0.5174 - val_accuracy: 0.7719\n",
      "Epoch 6/30\n",
      "50/50 [==============================] - 2s 48ms/step - loss: 0.2273 - accuracy: 0.9159 - val_loss: 0.5953 - val_accuracy: 0.7544\n",
      "Epoch 7/30\n",
      "50/50 [==============================] - 2s 41ms/step - loss: 0.1946 - accuracy: 0.9341 - val_loss: 0.7386 - val_accuracy: 0.7544\n",
      "Epoch 8/30\n",
      "50/50 [==============================] - 2s 44ms/step - loss: 0.1629 - accuracy: 0.9448 - val_loss: 0.8283 - val_accuracy: 0.7444\n",
      "Epoch 9/30\n",
      "50/50 [==============================] - 2s 47ms/step - loss: 0.1336 - accuracy: 0.9598 - val_loss: 0.7822 - val_accuracy: 0.7594\n",
      "Epoch 10/30\n",
      "50/50 [==============================] - 2s 48ms/step - loss: 0.1062 - accuracy: 0.9736 - val_loss: 0.8645 - val_accuracy: 0.7619\n",
      "Epoch 11/30\n",
      "50/50 [==============================] - 2s 48ms/step - loss: 0.1017 - accuracy: 0.9743 - val_loss: 0.7929 - val_accuracy: 0.7544\n",
      "Epoch 12/30\n",
      "50/50 [==============================] - 2s 48ms/step - loss: 0.1216 - accuracy: 0.9648 - val_loss: 0.7710 - val_accuracy: 0.7569\n",
      "Epoch 13/30\n",
      "50/50 [==============================] - 2s 47ms/step - loss: 0.1027 - accuracy: 0.9686 - val_loss: 0.8157 - val_accuracy: 0.7569\n",
      "Epoch 14/30\n",
      "50/50 [==============================] - 2s 39ms/step - loss: 0.0959 - accuracy: 0.9787 - val_loss: 0.9116 - val_accuracy: 0.7594\n",
      "Epoch 15/30\n",
      "50/50 [==============================] - 2s 46ms/step - loss: 0.0627 - accuracy: 0.9856 - val_loss: 0.9778 - val_accuracy: 0.7669\n",
      "Epoch 16/30\n",
      "50/50 [==============================] - 2s 48ms/step - loss: 0.0554 - accuracy: 0.9881 - val_loss: 1.1091 - val_accuracy: 0.7619\n",
      "Epoch 17/30\n",
      "50/50 [==============================] - 3s 51ms/step - loss: 0.0491 - accuracy: 0.9912 - val_loss: 1.0197 - val_accuracy: 0.7619\n",
      "Epoch 18/30\n",
      "50/50 [==============================] - 3s 50ms/step - loss: 0.0428 - accuracy: 0.9918 - val_loss: 1.0173 - val_accuracy: 0.7644\n",
      "Epoch 19/30\n",
      "50/50 [==============================] - 2s 47ms/step - loss: 0.0431 - accuracy: 0.9925 - val_loss: 1.1406 - val_accuracy: 0.7644\n",
      "Epoch 20/30\n",
      "50/50 [==============================] - 2s 47ms/step - loss: 0.0324 - accuracy: 0.9956 - val_loss: 1.1531 - val_accuracy: 0.7619\n",
      "Epoch 21/30\n",
      "50/50 [==============================] - 2s 39ms/step - loss: 0.0286 - accuracy: 0.9956 - val_loss: 1.1529 - val_accuracy: 0.7594\n",
      "Epoch 22/30\n",
      "50/50 [==============================] - 2s 46ms/step - loss: 0.0260 - accuracy: 0.9962 - val_loss: 1.2051 - val_accuracy: 0.7569\n",
      "Epoch 23/30\n",
      "50/50 [==============================] - 2s 47ms/step - loss: 0.0245 - accuracy: 0.9962 - val_loss: 1.2297 - val_accuracy: 0.7619\n",
      "Epoch 24/30\n",
      "50/50 [==============================] - 2s 46ms/step - loss: 0.0232 - accuracy: 0.9962 - val_loss: 1.2774 - val_accuracy: 0.7569\n",
      "Epoch 25/30\n",
      "50/50 [==============================] - 2s 48ms/step - loss: 0.0215 - accuracy: 0.9969 - val_loss: 1.3206 - val_accuracy: 0.7519\n",
      "Epoch 26/30\n",
      "50/50 [==============================] - 2s 48ms/step - loss: 0.0212 - accuracy: 0.9969 - val_loss: 1.2769 - val_accuracy: 0.7644\n",
      "Epoch 27/30\n",
      "50/50 [==============================] - 2s 46ms/step - loss: 0.0197 - accuracy: 0.9969 - val_loss: 1.3200 - val_accuracy: 0.7619\n",
      "Epoch 28/30\n",
      "50/50 [==============================] - 2s 40ms/step - loss: 0.0186 - accuracy: 0.9975 - val_loss: 1.4000 - val_accuracy: 0.7469\n",
      "Epoch 29/30\n",
      "50/50 [==============================] - 2s 47ms/step - loss: 0.0180 - accuracy: 0.9975 - val_loss: 1.3727 - val_accuracy: 0.7594\n",
      "Epoch 30/30\n",
      "50/50 [==============================] - 3s 50ms/step - loss: 0.0176 - accuracy: 0.9975 - val_loss: 1.4194 - val_accuracy: 0.7519\n"
     ]
    },
    {
     "data": {
      "image/png": "[encoded data removed]",
      "text/plain": [
       "<Figure size 432x288 with 1 Axes>"
      ]
     },
     "metadata": {
      "needs_background": "light"
     },
     "output_type": "display_data"
    },
    {
     "data": {
      "image/png": "[encoded data removed]",
      "text/plain": [
       "<Figure size 432x288 with 1 Axes>"
      ]
     },
     "metadata": {
      "needs_background": "light"
     },
     "output_type": "display_data"
    },
    {
     "name": "stdout",
     "output_type": "stream",
     "text": [
      "[425 281  16  25   0   0   0   0   0   0   0   0   0   0   0   0   0   0\n",
      "   0   0   0   0   0   0   0   0   0   0   0   0   0   0   0   0   0   0\n",
      "   0   0   0   0   0   0   0   0   0   0   0   0   0   0]\n",
      "i love this phone\n",
      "[0.99917084]\n",
      "\n",
      "\n",
      "[272 100 775   9 525 843   0   0   0   0   0   0   0   0   0   0   0   0\n",
      "   0   0   0   0   0   0   0   0   0   0   0   0   0   0   0   0   0   0\n",
      "   0   0   0   0   0   0   0   0   0   0   0   0   0   0]\n",
      "everything was cold\n",
      "[0.03015494]\n",
      "\n",
      "\n"
     ]
    }
   ],
   "source": [
    "fit_model_and_show_result(model_bidi_lstm,fake_reviews)"
   ]
  },
  {
   "cell_type": "code",
   "execution_count": 32,
   "id": "21545b76",
   "metadata": {},
   "outputs": [],
   "source": [
    "model_multiple_bidi_lstm = tf.keras.Sequential([\n",
    "    tf.keras.layers.Embedding(vocab_size,embedding_dim,input_length= max_length),\n",
    "    tf.keras.layers.Bidirectional(tf.keras.layers.LSTM(embedding_dim,return_sequences=True)),\n",
    "    tf.keras.layers.Bidirectional(tf.keras.layers.LSTM(embedding_dim)),\n",
    "    tf.keras.layers.Dense(6,activation='relu'),\n",
    "    tf.keras.layers.Dense(1,activation='sigmoid')\n",
    "])"
   ]
  },
  {
   "cell_type": "code",
   "execution_count": null,
   "id": "2af4a17f",
   "metadata": {},
   "outputs": [
    {
     "name": "stdout",
     "output_type": "stream",
     "text": [
      "Model: \"sequential_2\"\n",
      "_________________________________________________________________\n",
      "Layer (type)                 Output Shape              Param #   \n",
      "=================================================================\n",
      "embedding_2 (Embedding)      (None, 50, 16)            16000     \n",
      "_________________________________________________________________\n",
      "bidirectional_1 (Bidirection (None, 50, 32)            4224      \n",
      "_________________________________________________________________\n",
      "bidirectional_2 (Bidirection (None, 32)                6272      \n",
      "_________________________________________________________________\n",
      "dense_4 (Dense)              (None, 6)                 198       \n",
      "_________________________________________________________________\n",
      "dense_5 (Dense)              (None, 1)                 7         \n",
      "=================================================================\n",
      "Total params: 26,701\n",
      "Trainable params: 26,701\n",
      "Non-trainable params: 0\n",
      "_________________________________________________________________\n",
      "Epoch 1/30\n",
      "50/50 [==============================] - 23s 156ms/step - loss: 0.6909 - accuracy: 0.5273 - val_loss: 0.7070 - val_accuracy: 0.4135\n",
      "Epoch 2/30\n",
      "50/50 [==============================] - 5s 94ms/step - loss: 0.6493 - accuracy: 0.6472 - val_loss: 0.6496 - val_accuracy: 0.6115\n",
      "Epoch 3/30\n",
      "50/50 [==============================] - 5s 97ms/step - loss: 0.4336 - accuracy: 0.8211 - val_loss: 0.5490 - val_accuracy: 0.7494\n",
      "Epoch 4/30\n",
      "50/50 [==============================] - 4s 88ms/step - loss: 0.3074 - accuracy: 0.8895 - val_loss: 0.5781 - val_accuracy: 0.7318\n",
      "Epoch 5/30\n",
      "50/50 [==============================] - 4s 86ms/step - loss: 0.2370 - accuracy: 0.9178 - val_loss: 0.6513 - val_accuracy: 0.7293\n",
      "Epoch 6/30\n",
      "50/50 [==============================] - 4s 90ms/step - loss: 0.1824 - accuracy: 0.9473 - val_loss: 0.6570 - val_accuracy: 0.7444\n",
      "Epoch 7/30\n",
      "50/50 [==============================] - 5s 102ms/step - loss: 0.1570 - accuracy: 0.9548 - val_loss: 0.7811 - val_accuracy: 0.7368\n",
      "Epoch 8/30\n",
      "50/50 [==============================] - 5s 90ms/step - loss: 0.1122 - accuracy: 0.9724 - val_loss: 0.8302 - val_accuracy: 0.7444\n",
      "Epoch 9/30\n",
      "50/50 [==============================] - 5s 102ms/step - loss: 0.1078 - accuracy: 0.9736 - val_loss: 0.9467 - val_accuracy: 0.7093\n",
      "Epoch 10/30\n",
      "50/50 [==============================] - 5s 93ms/step - loss: 0.0975 - accuracy: 0.9761 - val_loss: 0.8787 - val_accuracy: 0.7544\n",
      "Epoch 11/30\n",
      "50/50 [==============================] - 4s 88ms/step - loss: 0.0989 - accuracy: 0.9730 - val_loss: 0.9520 - val_accuracy: 0.7218\n",
      "Epoch 12/30\n",
      " 9/50 [====>.........................] - ETA: 2s - loss: 0.0236 - accuracy: 1.0000"
     ]
    }
   ],
   "source": [
    "fit_model_and_show_result(model_multiple_bidi_lstm,fake_reviews)"
   ]
  },
  {
   "cell_type": "code",
   "execution_count": null,
   "id": "c06334bd",
   "metadata": {},
   "outputs": [],
   "source": [
    "my_reviews = ['lovely','dreadful','stay away', 'everything was hot exactly as i wanted']"
   ]
  },
  {
   "cell_type": "code",
   "execution_count": null,
   "id": "160f8d24",
   "metadata": {},
   "outputs": [],
   "source": [
    "print(\"======================================================\\n\",\"embedded only:\\n\",\"=======================\")\n",
    "predict_review(model,my_reviews,show_padded_sequence=False)"
   ]
  },
  {
   "cell_type": "code",
   "execution_count": null,
   "id": "77fa206b",
   "metadata": {},
   "outputs": [],
   "source": [
    "print(\"======================================================\\n\",\"embedded only:\\n\",\"=======================\")\n",
    "predict_review(model_bidi_lstm,my_reviews,show_padded_sequence=False)"
   ]
  },
  {
   "cell_type": "code",
   "execution_count": null,
   "id": "27a84946",
   "metadata": {},
   "outputs": [],
   "source": [
    "print(\"======================================================\\n\",\"embedded only:\\n\",\"=======================\")\n",
    "predict_review(model_multiple_bidi_lstm,my_reviews,show_padded_sequence=False)"
   ]
  },
  {
   "cell_type": "code",
   "execution_count": null,
   "id": "542aa549",
   "metadata": {},
   "outputs": [],
   "source": []
  }
 ],
 "metadata": {
  "kernelspec": {
   "display_name": "Python 3",
   "language": "python",
   "name": "python3"
  },
  "language_info": {
   "codemirror_mode": {
    "name": "ipython",
    "version": 3
   },
   "file_extension": ".py",
   "mimetype": "text/x-python",
   "name": "python",
   "nbconvert_exporter": "python",
   "pygments_lexer": "ipython3",
   "version": "3.6.13"
  }
 },
 "nbformat": 4,
 "nbformat_minor": 5
}
