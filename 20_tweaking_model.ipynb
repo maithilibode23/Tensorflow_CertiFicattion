{
 "cells": [
  {
   "cell_type": "code",
   "execution_count": 1,
   "id": "2dc3a438",
   "metadata": {},
   "outputs": [],
   "source": [
    "import tensorflow as tf\n",
    "from tensorflow.keras.preprocessing.text import Tokenizer\n",
    "from tensorflow.keras.preprocessing.sequence import pad_sequences\n",
    "import numpy as np\n",
    "import pandas as pd"
   ]
  },
  {
   "cell_type": "code",
   "execution_count": 2,
   "id": "d9ff4d5d",
   "metadata": {},
   "outputs": [],
   "source": [
    "dataset = pd.read_csv('C:\\\\Users\\\\maithili bode\\\\.keras\\\\datasets\\\\reviews.csv')"
   ]
  },
  {
   "cell_type": "code",
   "execution_count": 3,
   "id": "218e79d1",
   "metadata": {},
   "outputs": [],
   "source": [
    "sentences = dataset['text'].tolist()\n",
    "\n",
    "labels = dataset['sentiment'].tolist()\n",
    "training_size = int(len(sentences)*0.8)\n",
    "training_sentences = sentences[0:training_size]\n",
    "testing_sentences = sentences[training_size:]\n",
    "training_labels = labels[0:training_size]\n",
    "testing_labels = labels[training_size:]\n",
    "training_labels_final = np.array(training_labels)\n",
    "testing_labels_final = np.array(testing_labels)\n",
    "\n",
    "vocab_size = 500\n",
    "embedding_dim = 16\n",
    "max_length = 50\n",
    "trunc_type = 'post'\n",
    "padding_type = 'post'\n",
    "oov_tok = '<OOV>'"
   ]
  },
  {
   "cell_type": "code",
   "execution_count": 4,
   "id": "6e839a0b",
   "metadata": {},
   "outputs": [],
   "source": [
    "tokenizer = Tokenizer(num_words=vocab_size,oov_token=oov_tok)\n",
    "tokenizer.fit_on_texts(training_sentences)\n",
    "word_index = tokenizer.word_index\n",
    "sequences = tokenizer.texts_to_sequences(training_sentences)\n",
    "training_padded = pad_sequences(sequences,maxlen=max_length,padding=padding_type,truncating=trunc_type)\n",
    "\n",
    "\n",
    "testing_sequences = tokenizer.texts_to_sequences(testing_sentences)\n",
    "testing_padded = pad_sequences(testing_sequences,maxlen=max_length,padding=padding_type,truncating=trunc_type)"
   ]
  },
  {
   "cell_type": "code",
   "execution_count": 5,
   "id": "e80def34",
   "metadata": {},
   "outputs": [],
   "source": [
    "model = tf.keras.Sequential([\n",
    "    tf.keras.layers.Embedding(vocab_size,embedding_dim,input_length=max_length),\n",
    "    tf.keras.layers.GlobalAveragePooling1D(),\n",
    "    tf.keras.layers.Dense(6,activation='relu'),\n",
    "    tf.keras.layers.Dense(1,activation='sigmoid')\n",
    "])"
   ]
  },
  {
   "cell_type": "code",
   "execution_count": 6,
   "id": "b96311ff",
   "metadata": {},
   "outputs": [
    {
     "name": "stdout",
     "output_type": "stream",
     "text": [
      "Model: \"sequential\"\n",
      "_________________________________________________________________\n",
      "Layer (type)                 Output Shape              Param #   \n",
      "=================================================================\n",
      "embedding (Embedding)        (None, 50, 16)            8000      \n",
      "_________________________________________________________________\n",
      "global_average_pooling1d (Gl (None, 16)                0         \n",
      "_________________________________________________________________\n",
      "dense (Dense)                (None, 6)                 102       \n",
      "_________________________________________________________________\n",
      "dense_1 (Dense)              (None, 1)                 7         \n",
      "=================================================================\n",
      "Total params: 8,109\n",
      "Trainable params: 8,109\n",
      "Non-trainable params: 0\n",
      "_________________________________________________________________\n"
     ]
    }
   ],
   "source": [
    "model.summary()"
   ]
  },
  {
   "cell_type": "code",
   "execution_count": 7,
   "id": "49b86e18",
   "metadata": {},
   "outputs": [
    {
     "name": "stdout",
     "output_type": "stream",
     "text": [
      "Epoch 1/30\n",
      "50/50 [==============================] - 2s 13ms/step - loss: 0.6935 - accuracy: 0.4940 - val_loss: 0.6947 - val_accuracy: 0.4110\n",
      "Epoch 2/30\n",
      "50/50 [==============================] - 0s 5ms/step - loss: 0.6928 - accuracy: 0.5223 - val_loss: 0.6954 - val_accuracy: 0.4110\n",
      "Epoch 3/30\n",
      "50/50 [==============================] - 0s 5ms/step - loss: 0.6926 - accuracy: 0.5223 - val_loss: 0.6961 - val_accuracy: 0.4110\n",
      "Epoch 4/30\n",
      "50/50 [==============================] - 0s 5ms/step - loss: 0.6923 - accuracy: 0.5223 - val_loss: 0.7008 - val_accuracy: 0.4110\n",
      "Epoch 5/30\n",
      "50/50 [==============================] - 0s 5ms/step - loss: 0.6892 - accuracy: 0.5223 - val_loss: 0.6996 - val_accuracy: 0.4110\n",
      "Epoch 6/30\n",
      "50/50 [==============================] - 0s 5ms/step - loss: 0.6842 - accuracy: 0.5223 - val_loss: 0.7037 - val_accuracy: 0.4110\n",
      "Epoch 7/30\n",
      "50/50 [==============================] - 0s 5ms/step - loss: 0.6762 - accuracy: 0.5242 - val_loss: 0.6918 - val_accuracy: 0.4336\n",
      "Epoch 8/30\n",
      "50/50 [==============================] - 0s 5ms/step - loss: 0.6619 - accuracy: 0.5675 - val_loss: 0.6783 - val_accuracy: 0.5213\n",
      "Epoch 9/30\n",
      "50/50 [==============================] - 0s 5ms/step - loss: 0.6420 - accuracy: 0.6428 - val_loss: 0.6617 - val_accuracy: 0.5789\n",
      "Epoch 10/30\n",
      "50/50 [==============================] - 0s 5ms/step - loss: 0.6164 - accuracy: 0.7219 - val_loss: 0.6473 - val_accuracy: 0.5915\n",
      "Epoch 11/30\n",
      "50/50 [==============================] - 0s 5ms/step - loss: 0.5849 - accuracy: 0.7665 - val_loss: 0.6237 - val_accuracy: 0.6566\n",
      "Epoch 12/30\n",
      "50/50 [==============================] - 0s 5ms/step - loss: 0.5521 - accuracy: 0.8016 - val_loss: 0.5989 - val_accuracy: 0.7093\n",
      "Epoch 13/30\n",
      "50/50 [==============================] - 0s 5ms/step - loss: 0.5187 - accuracy: 0.8242 - val_loss: 0.5802 - val_accuracy: 0.7043\n",
      "Epoch 14/30\n",
      "50/50 [==============================] - 0s 5ms/step - loss: 0.4867 - accuracy: 0.8374 - val_loss: 0.5635 - val_accuracy: 0.7118\n",
      "Epoch 15/30\n",
      "50/50 [==============================] - 0s 5ms/step - loss: 0.4559 - accuracy: 0.8418 - val_loss: 0.5248 - val_accuracy: 0.7895\n",
      "Epoch 16/30\n",
      "50/50 [==============================] - 0s 5ms/step - loss: 0.4300 - accuracy: 0.8512 - val_loss: 0.5199 - val_accuracy: 0.7619\n",
      "Epoch 17/30\n",
      "50/50 [==============================] - 0s 5ms/step - loss: 0.4082 - accuracy: 0.8594 - val_loss: 0.5190 - val_accuracy: 0.7494\n",
      "Epoch 18/30\n",
      "50/50 [==============================] - 0s 5ms/step - loss: 0.3864 - accuracy: 0.8625 - val_loss: 0.5105 - val_accuracy: 0.7368\n",
      "Epoch 19/30\n",
      "50/50 [==============================] - 0s 5ms/step - loss: 0.3680 - accuracy: 0.8650 - val_loss: 0.4872 - val_accuracy: 0.7945\n",
      "Epoch 20/30\n",
      "50/50 [==============================] - 0s 5ms/step - loss: 0.3511 - accuracy: 0.8726 - val_loss: 0.4753 - val_accuracy: 0.7945\n",
      "Epoch 21/30\n",
      "50/50 [==============================] - 0s 5ms/step - loss: 0.3379 - accuracy: 0.8751 - val_loss: 0.4798 - val_accuracy: 0.7870\n",
      "Epoch 22/30\n",
      "50/50 [==============================] - 0s 5ms/step - loss: 0.3233 - accuracy: 0.8776 - val_loss: 0.5055 - val_accuracy: 0.7318\n",
      "Epoch 23/30\n",
      "50/50 [==============================] - 0s 5ms/step - loss: 0.3120 - accuracy: 0.8782 - val_loss: 0.4823 - val_accuracy: 0.7669\n",
      "Epoch 24/30\n",
      "50/50 [==============================] - 0s 5ms/step - loss: 0.3032 - accuracy: 0.8858 - val_loss: 0.4945 - val_accuracy: 0.7469\n",
      "Epoch 25/30\n",
      "50/50 [==============================] - 0s 5ms/step - loss: 0.2927 - accuracy: 0.8864 - val_loss: 0.4788 - val_accuracy: 0.7694\n",
      "Epoch 26/30\n",
      "50/50 [==============================] - 0s 6ms/step - loss: 0.2830 - accuracy: 0.8945 - val_loss: 0.4839 - val_accuracy: 0.7569\n",
      "Epoch 27/30\n",
      "50/50 [==============================] - 0s 5ms/step - loss: 0.2753 - accuracy: 0.8952 - val_loss: 0.4893 - val_accuracy: 0.7544\n",
      "Epoch 28/30\n",
      "50/50 [==============================] - 0s 5ms/step - loss: 0.2685 - accuracy: 0.8945 - val_loss: 0.4814 - val_accuracy: 0.7719\n",
      "Epoch 29/30\n",
      "50/50 [==============================] - 0s 5ms/step - loss: 0.2607 - accuracy: 0.9002 - val_loss: 0.4812 - val_accuracy: 0.7769\n",
      "Epoch 30/30\n",
      "50/50 [==============================] - 0s 5ms/step - loss: 0.2545 - accuracy: 0.9040 - val_loss: 0.4995 - val_accuracy: 0.7469\n"
     ]
    }
   ],
   "source": [
    "model.compile(loss='binary_crossentropy',optimizer='adam',metrics=['accuracy'])\n",
    "num_epochs = 30\n",
    "history = model.fit(training_padded,training_labels_final,epochs=num_epochs,validation_data=(testing_padded,testing_labels_final))"
   ]
  },
  {
   "cell_type": "code",
   "execution_count": 8,
   "id": "a1073811",
   "metadata": {},
   "outputs": [],
   "source": [
    "import matplotlib.pyplot as plt\n",
    "def plot_graphs(history,string):\n",
    "    plt.plot(history.history[string])\n",
    "    plt.plot(history.history['val_'+string])\n",
    "    plt.xlabel('Epochs')\n",
    "    plt.ylabel('string')\n",
    "    plt.legend([string,'val_'+string])\n",
    "    plt.show()"
   ]
  },
  {
   "cell_type": "code",
   "execution_count": 9,
   "id": "6049d571",
   "metadata": {},
   "outputs": [
    {
     "data": {
      "image/png": "[encoded data removed]",
      "text/plain": [
       "<Figure size 432x288 with 1 Axes>"
      ]
     },
     "metadata": {
      "needs_background": "light"
     },
     "output_type": "display_data"
    }
   ],
   "source": [
    "plot_graphs(history,'accuracy')"
   ]
  },
  {
   "cell_type": "code",
   "execution_count": 10,
   "id": "b57c448e",
   "metadata": {},
   "outputs": [
    {
     "data": {
      "image/png": "[encoded data removed]",
      "text/plain": [
       "<Figure size 432x288 with 1 Axes>"
      ]
     },
     "metadata": {
      "needs_background": "light"
     },
     "output_type": "display_data"
    }
   ],
   "source": [
    "plot_graphs(history,'loss')"
   ]
  },
  {
   "cell_type": "code",
   "execution_count": null,
   "id": "0125a4d1",
   "metadata": {},
   "outputs": [],
   "source": []
  }
 ],
 "metadata": {
  "kernelspec": {
   "display_name": "Python 3",
   "language": "python",
   "name": "python3"
  },
  "language_info": {
   "codemirror_mode": {
    "name": "ipython",
    "version": 3
   },
   "file_extension": ".py",
   "mimetype": "text/x-python",
   "name": "python",
   "nbconvert_exporter": "python",
   "pygments_lexer": "ipython3",
   "version": "3.6.13"
  }
 },
 "nbformat": 4,
 "nbformat_minor": 5
}
